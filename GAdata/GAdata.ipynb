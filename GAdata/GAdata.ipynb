{
 "cells": [
  {
   "cell_type": "code",
   "execution_count": 187,
   "metadata": {
    "collapsed": true,
    "deletable": true,
    "editable": true
   },
   "outputs": [],
   "source": [
    "import gadata_funcs,pdb,re\n",
    "import pandas as pd\n",
    "import numpy as np\n",
    "from gadata_funcs import date2days\n",
    "from importlib import reload\n",
    "from sklearn.ensemble import RandomForestClassifier\n",
    "from sklearn.model_selection import train_test_split\n",
    "\n",
    "%matplotlib notebook"
   ]
  },
  {
   "cell_type": "code",
   "execution_count": 21,
   "metadata": {
    "collapsed": true,
    "deletable": true,
    "editable": true
   },
   "outputs": [],
   "source": [
    "# Loading in data and adding day info\n",
    "df=pd.read_csv(\"gadata.csv\",dtype={'date':str})\n",
    "df2=pd.read_csv(\"/home/wlwoon/Dropbox/chicken_work/impersuasion_stuff/withSalesData/sales_order_line_timestamped.csv\")\n",
    "df['day']=df.date.apply(gadata_date2days)\n",
    "df2['day']=df2.transaction_date.apply(salesdata_date2days)"
   ]
  },
  {
   "cell_type": "code",
   "execution_count": 64,
   "metadata": {
    "collapsed": true
   },
   "outputs": [],
   "source": [
    "# The ranges for the feature generate and target windows respectively\n",
    "inFeatRange=set(list(range(120,150)))\n",
    "labelRange=set(list(range(150,170)))"
   ]
  },
  {
   "cell_type": "code",
   "execution_count": 192,
   "metadata": {
    "collapsed": false,
    "deletable": true,
    "editable": true
   },
   "outputs": [],
   "source": [
    "# Preparing to extract features\n",
    "dff=df[df.day.isin(inFeatRange)]\n",
    "dff2=df2[df2.day.isin(labelRange)]\n",
    "dff2=dff2[dff2.customer_id.isin(set(dff.user_id))]\n",
    "dg=dff.groupby('user_id')"
   ]
  },
  {
   "cell_type": "code",
   "execution_count": 194,
   "metadata": {
    "collapsed": false
   },
   "outputs": [],
   "source": [
    "# Feature extraction\n",
    "\n",
    "# x (inputs)\n",
    "xdf=dg.hits.count()\n",
    "xdf=pd.concat((xdf,dg.country.first()),axis=1)\n",
    "xdf['malaysia']=(xdf.country=='Malaysia').astype(int)\n",
    "xdf['malsing']=(xdf.country.isin(['Malaysia','Singapore'])).astype(int)\n",
    "\n",
    "# y (targets)\n",
    "ydf=pd.DataFrame(xdf.index.isin(set(dff2.customer_id)).astype(int),index=xdf.index)"
   ]
  },
  {
   "cell_type": "code",
   "execution_count": 203,
   "metadata": {
    "collapsed": false
   },
   "outputs": [],
   "source": [
    "# Just the relevant features, and formatting for easier use\n",
    "x=xdf[['hits','malsing']].values\n",
    "y=ydf.values.reshape((-1,))"
   ]
  },
  {
   "cell_type": "code",
   "execution_count": 204,
   "metadata": {
    "collapsed": false
   },
   "outputs": [],
   "source": [
    "rf=RandomForestClassifier(n_estimators=20)"
   ]
  },
  {
   "cell_type": "code",
   "execution_count": 207,
   "metadata": {
    "collapsed": false
   },
   "outputs": [
    {
     "data": {
      "text/plain": [
       "0.7157968970380818"
      ]
     },
     "execution_count": 207,
     "metadata": {},
     "output_type": "execute_result"
    }
   ],
   "source": [
    "xtrain,xtest,ytrain,ytest=train_test_split(x,y,test_size=.1)\n",
    "\n",
    "rf.fit(xtrain,ytrain)\n",
    "rf.score(xtest,ytest)"
   ]
  },
  {
   "cell_type": "code",
   "execution_count": null,
   "metadata": {
    "collapsed": true
   },
   "outputs": [],
   "source": []
  },
  {
   "cell_type": "code",
   "execution_count": 135,
   "metadata": {
    "collapsed": false
   },
   "outputs": [
    {
     "data": {
      "text/plain": [
       "hits\n",
       "1    108\n",
       "2     36\n",
       "Name: hits, dtype: int64"
      ]
     },
     "execution_count": 135,
     "metadata": {},
     "output_type": "execute_result"
    }
   ],
   "source": [
    "#dg.hits.count()[dg.hits.nunique()>1]\n",
    "dg.hits.value_counts()[13486]"
   ]
  }
 ],
 "metadata": {
  "anaconda-cloud": {},
  "kernelspec": {
   "display_name": "Python [default]",
   "language": "python",
   "name": "python3"
  },
  "language_info": {
   "codemirror_mode": {
    "name": "ipython",
    "version": 3
   },
   "file_extension": ".py",
   "mimetype": "text/x-python",
   "name": "python",
   "nbconvert_exporter": "python",
   "pygments_lexer": "ipython3",
   "version": "3.5.4"
  }
 },
 "nbformat": 4,
 "nbformat_minor": 1
}
