{
 "cells": [
  {
   "cell_type": "code",
   "execution_count": 1,
   "metadata": {
    "collapsed": true
   },
   "outputs": [],
   "source": [
    "import gadata_funcs,pdb,re\n",
    "import pandas as pd\n",
    "import numpy as np\n",
    "import pylab as pl\n",
    "from gadata_funcs import date2days,gadata_date2days,salesdata_date2days,getTrainingData\n",
    "from importlib import reload\n",
    "from sklearn.ensemble import RandomForestClassifier\n",
    "from sklearn.model_selection import train_test_split\n",
    "from sklearn.metrics import accuracy_score,precision_score,recall_score\n",
    "from sklearn.linear_model import LogisticRegression\n",
    "from sys import stdout\n",
    "from xgboost import XGBClassifier\n",
    "\n",
    "%matplotlib notebook"
   ]
  },
  {
   "cell_type": "code",
   "execution_count": 2,
   "metadata": {},
   "outputs": [
    {
     "name": "stdout",
     "output_type": "stream",
     "text": [
      "Cross validation round: \n",
      "#0,#1,#2,#3,#4,#5,#6,#7,#8,#9,#10,#11,#12,#13,#14,#15,#16,#17,#18,#19,\n",
      "Accuracy     0.727645\n",
      "Precision    0.585002\n",
      "Recall       0.678907\n",
      "dtype: float64\n"
     ]
    }
   ],
   "source": [
    "# Conducting the experiments\n",
    "################################\n",
    "\n",
    "# Parameters\n",
    "nAugment=1\n",
    "pAugment=.85\n",
    "labelWindow=20\n",
    "featureWindow=30\n",
    "labelThreshold=[150]\n",
    "featureList=['hits','maxPurchase']\n",
    "\n",
    "# Loading data\n",
    "xdf,ydf=getTrainingData(labelThreshold,labelWindow=labelWindow,featureWindow=featureWindow)\n",
    "x=xdf[featureList].values #,'maxPurchase']].values \n",
    "y=ydf.values.reshape((-1,))\n",
    "\n",
    "scores=[]\n",
    "importances=[]\n",
    "print(\"Cross validation round: \")\n",
    "for count in range(20):\n",
    "    stdout.write(\"#\"+str(count)+\",\")\n",
    "    \n",
    "    #rf=GradientBoostingClassifier(n_estimators=300)\n",
    "    #rf=XGBClassifier(n_estimators=250,max_depth=6)\n",
    "    rf=RandomForestClassifier(n_estimators=350,max_depth=6)\n",
    "    \n",
    "    xtrain,xtest,ytrain,ytest=train_test_split(x,y,test_size=.05)\n",
    "    \n",
    "    # Augmenting minority class\n",
    "    for count2 in range(nAugment):\n",
    "        minoritySamp=np.logical_and(ytrain==1,np.random.rand(len(ytrain))<pAugment)\n",
    "        xtrain=np.concatenate((xtrain,xtrain[minoritySamp]),axis=0)\n",
    "        ytrain=np.concatenate((ytrain,np.ones(np.sum(minoritySamp))),axis=0)\n",
    "    \n",
    "    rf.fit(xtrain,ytrain)\n",
    "    importances.append(rf.feature_importances_)\n",
    "    scores.append([accuracy_score(ytest,rf.predict(xtest)),precision_score(ytest,rf.predict(xtest)),recall_score(ytest,rf.predict(xtest))])\n",
    "\n",
    "print()\n",
    "scores=pd.DataFrame(scores,columns=['Accuracy','Precision','Recall'])\n",
    "print(np.mean(scores))"
   ]
  },
  {
   "cell_type": "code",
   "execution_count": null,
   "metadata": {
    "collapsed": true
   },
   "outputs": [],
   "source": []
  }
 ],
 "metadata": {
  "anaconda-cloud": {},
  "kernelspec": {
   "display_name": "Python 3",
   "language": "python",
   "name": "python3"
  },
  "language_info": {
   "codemirror_mode": {
    "name": "ipython",
    "version": 3
   },
   "file_extension": ".py",
   "mimetype": "text/x-python",
   "name": "python",
   "nbconvert_exporter": "python",
   "pygments_lexer": "ipython3",
   "version": "3.6.2"
  }
 },
 "nbformat": 4,
 "nbformat_minor": 1
}
