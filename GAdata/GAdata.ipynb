{
 "cells": [
  {
   "cell_type": "code",
   "execution_count": 1,
   "metadata": {
    "collapsed": true,
    "deletable": true,
    "editable": true
   },
   "outputs": [],
   "source": [
    "import gadata_funcs,pdb,re\n",
    "import pandas as pd\n",
    "import numpy as np\n",
    "import pylab as pl\n",
    "from gadata_funcs import date2days,gadata_date2days,salesdata_date2days\n",
    "from importlib import reload\n",
    "from sklearn.ensemble import RandomForestClassifier\n",
    "from sklearn.model_selection import train_test_split\n",
    "from sklearn.metrics import accuracy_score,precision_score,recall_score\n",
    "from sys import stdout\n",
    "\n",
    "%matplotlib notebook"
   ]
  },
  {
   "cell_type": "code",
   "execution_count": 2,
   "metadata": {
    "collapsed": true,
    "deletable": true,
    "editable": true
   },
   "outputs": [],
   "source": [
    "# Loading in data and adding day info\n",
    "df=pd.read_csv(\"gadata.csv\",dtype={'date':str})\n",
    "df2=pd.read_csv(\"/home/wlwoon/Dropbox/chicken_work/impersuasion_stuff/withSalesData/sales_order_line_timestamped.csv\")\n",
    "df['day']=df.date.apply(gadata_date2days)\n",
    "df2['day']=df2.transaction_date.apply(salesdata_date2days)"
   ]
  },
  {
   "cell_type": "code",
   "execution_count": 3,
   "metadata": {
    "collapsed": true,
    "deletable": true,
    "editable": true
   },
   "outputs": [],
   "source": [
    "# The ranges for the feature generate and target windows respectively\n",
    "featLen=30\n",
    "labelLen=20\n",
    "featThreshold1=50\n",
    "featThreshold2=100\n",
    "featThreshold3=150"
   ]
  },
  {
   "cell_type": "code",
   "execution_count": 4,
   "metadata": {
    "collapsed": false,
    "deletable": true,
    "editable": true
   },
   "outputs": [
    {
     "name": "stderr",
     "output_type": "stream",
     "text": [
      "/home/wlwoon/anaconda2/envs/py3/lib/python3.5/site-packages/ipykernel/__main__.py:12: SettingWithCopyWarning: \n",
      "A value is trying to be set on a copy of a slice from a DataFrame\n",
      "\n",
      "See the caveats in the documentation: http://pandas.pydata.org/pandas-docs/stable/indexing.html#indexing-view-versus-copy\n"
     ]
    }
   ],
   "source": [
    "# Preparing to extract features\n",
    "featThreshold=featThreshold3\n",
    "\n",
    "inFeatRange=set(list(range(featThreshold-featLen,featThreshold)))\n",
    "labelRange=set(list(range(featThreshold,featThreshold+labelLen)))\n",
    "\n",
    "featdf=df[df.day.isin(inFeatRange)]\n",
    "targetdf=df2[df2.day.isin(labelRange)]\n",
    "targetdf=targetdf[targetdf.customer_id.isin(set(featdf.user_id))]\n",
    "\n",
    "dg=featdf.groupby('user_id')\n",
    "featdf.replace(np.nan,-10,inplace=True)"
   ]
  },
  {
   "cell_type": "code",
   "execution_count": 5,
   "metadata": {
    "collapsed": true,
    "deletable": true,
    "editable": true
   },
   "outputs": [],
   "source": [
    "# Feature extraction\n",
    "\n",
    "# x (inputs)\n",
    "xdf=dg.hits.count()\n",
    "xdf=pd.concat((xdf,dg.country.first()),axis=1)\n",
    "xdf['malaysia']=(xdf.country=='Malaysia').astype(int)\n",
    "xdf['malsing']=(xdf.country.isin(['Malaysia','Singapore'])).astype(int)\n",
    "xdf['meanDay']=dg.day.mean()\n",
    "xdf['meanDuration']=dg.sessionDuration.mean()\n",
    "xdf['maxDuration']=dg.sessionDuration.max()\n",
    "xdf['meanPurchase']=dg.noPurchases.mean()\n",
    "xdf['maxPurchase']=dg.noPurchases.max()\n",
    "xdf['recency']=dg.day.apply(lambda tmp: np.min(featThreshold-tmp))\n",
    "xdf['userType']=(dg.userType.first()=='Returning Visitor').astype(int)\n",
    "\n",
    "# y (targets)\n",
    "ydf=pd.DataFrame(xdf.index.isin(set(targetdf.customer_id)).astype(int),index=xdf.index)"
   ]
  },
  {
   "cell_type": "code",
   "execution_count": 9,
   "metadata": {
    "collapsed": true,
    "deletable": true,
    "editable": true
   },
   "outputs": [],
   "source": [
    "# Just the relevant features, and formatting for easier use\n",
    "x=xdf[['hits','meanPurchase']].values\n",
    "y=ydf.values.reshape((-1,))"
   ]
  },
  {
   "cell_type": "code",
   "execution_count": 11,
   "metadata": {
    "collapsed": false,
    "deletable": true,
    "editable": true
   },
   "outputs": [
    {
     "name": "stdout",
     "output_type": "stream",
     "text": [
      "Cross validation round: \n",
      "#0,#1,#2,#3,#4,#5,#6,#7,#8,#9,\n",
      "Accuracy     0.721791\n",
      "Precision    0.575146\n",
      "Recall       0.660918\n",
      "dtype: float64\n"
     ]
    }
   ],
   "source": [
    "scores=[]\n",
    "importances=[]\n",
    "print(\"Cross validation round: \")\n",
    "for count in range(10):\n",
    "    stdout.write(\"#\"+str(count)+\",\")\n",
    "    \n",
    "    #rf=GradientBoostingClassifier(n_estimators=300)\n",
    "    #rf=XGBClassifier(n_estimators=250,max_depth=6)\n",
    "    rf=RandomForestClassifier(n_estimators=350,max_depth=6)\n",
    "    \n",
    "    xtrain,xtest,ytrain,ytest=train_test_split(x,y,test_size=.1)\n",
    "    \n",
    "    # Augmenting minority class\n",
    "    minoritySamp=np.logical_and(ytrain==1,np.random.rand(len(ytrain))<.85)\n",
    "    xtrain=np.concatenate((xtrain,xtrain[minoritySamp]),axis=0)\n",
    "    ytrain=np.concatenate((ytrain,np.ones(np.sum(minoritySamp))),axis=0)\n",
    "    \n",
    "    rf.fit(xtrain,ytrain)\n",
    "    importances.append(rf.feature_importances_)\n",
    "    scores.append([accuracy_score(ytest,rf.predict(xtest)),precision_score(ytest,rf.predict(xtest)),recall_score(ytest,rf.predict(xtest))])\n",
    "\n",
    "print()\n",
    "scores=pd.DataFrame(scores,columns=['Accuracy','Precision','Recall'])\n",
    "print(np.mean(scores))"
   ]
  },
  {
   "cell_type": "code",
   "execution_count": null,
   "metadata": {
    "collapsed": true
   },
   "outputs": [],
   "source": []
  }
 ],
 "metadata": {
  "anaconda-cloud": {},
  "kernelspec": {
   "display_name": "Python [default]",
   "language": "python",
   "name": "python3"
  },
  "language_info": {
   "codemirror_mode": {
    "name": "ipython",
    "version": 3
   },
   "file_extension": ".py",
   "mimetype": "text/x-python",
   "name": "python",
   "nbconvert_exporter": "python",
   "pygments_lexer": "ipython3",
   "version": "3.5.4"
  }
 },
 "nbformat": 4,
 "nbformat_minor": 1
}
